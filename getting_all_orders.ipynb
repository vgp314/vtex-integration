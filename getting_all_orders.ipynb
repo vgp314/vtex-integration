{
 "cells": [
  {
   "cell_type": "code",
   "execution_count": 74,
   "metadata": {},
   "outputs": [],
   "source": [
    "from datetime import datetime\n",
    "from datetime import timedelta\n",
    "import requests\n",
    "import json\n",
    "import pandas as pd"
   ]
  },
  {
   "cell_type": "code",
   "execution_count": 58,
   "metadata": {},
   "outputs": [],
   "source": [
    "#KEYS\n",
    "app_key = ''\n",
    "app_token = ''\n",
    "url_api_vtex = ''\n",
    "url_api_all_orders = url_api_vtex+'orders/'\n"
   ]
  },
  {
   "cell_type": "code",
   "execution_count": 105,
   "metadata": {},
   "outputs": [],
   "source": [
    "def get_all_orders(beggining_date,ending_date,page=1,per_page=100):\n",
    "  \n",
    "  beggining_date =  beggining_date.strftime(\"%Y-%m-%d\")+\"T03:00:00.000Z\"\n",
    "  ending_date = ending_date.strftime(\"%Y-%m-%d\")+\"T02:59:59.999Z\"\n",
    "  \n",
    "  #url of getting orders\n",
    "  url = url_api_all_orders +\"?\"+\"f_creationDate=creationDate:%5B{beggining_date}%20TO%20{ending_date}%5D&orderBy=creationDate,desc&per_page={per_page}&page={page}\"\n",
    "  url = url.format(beggining_date=beggining_date,ending_date=ending_date,per_page=per_page,page=page)  \n",
    "  payload = {}\n",
    "  headers = {\n",
    "    'Accept': 'application/json',\n",
    "    'Content-Type': 'application/json',\n",
    "    'X-VTEX-API-AppToken':app_token ,\n",
    "    'X-VTEX-API-AppKey': app_key\n",
    "  }\n",
    "  response = requests.request('GET', url, headers = headers, data = payload, allow_redirects=False)\n",
    "  return json.loads(response.text)"
   ]
  },
  {
   "cell_type": "code",
   "execution_count": 93,
   "metadata": {},
   "outputs": [],
   "source": [
    "def process_all_orders_day(start_day=datetime.now()):\n",
    "    data = []\n",
    "    end_day = start_day+timedelta(days=1)\n",
    "    first_page_data = get_all_orders(start_day,end_day,1)\n",
    "    total_pages = first_page_data[\"paging\"][\"pages\"]\n",
    "    currentPage = 1\n",
    "    orders = first_page_data[\"list\"]\n",
    "    data.extend(orders)\n",
    "    for page in range(2,total_pages+1):\n",
    "        orders = get_all_orders(start_day,end_day,page)\n",
    "        data.extend(orders[\"list\"])\n",
    "    return data"
   ]
  },
  {
   "cell_type": "code",
   "execution_count": 106,
   "metadata": {},
   "outputs": [],
   "source": [
    "data = process_all_orders_day()"
   ]
  },
  {
   "cell_type": "code",
   "execution_count": 95,
   "metadata": {},
   "outputs": [],
   "source": [
    "def data_to_dataframe(data):\n",
    "    rows = []\n",
    "    for order in data:\n",
    "        row = []\n",
    "        for key in order.keys():\n",
    "           row.append(order[key])\n",
    "        rows.append(row)\n",
    "    return pd.DataFrame(rows,columns=order.keys())"
   ]
  },
  {
   "cell_type": "code",
   "execution_count": 102,
   "metadata": {},
   "outputs": [],
   "source": [
    "df = data_to_dataframe(data)\n"
   ]
  },
  {
   "cell_type": "code",
   "execution_count": null,
   "metadata": {},
   "outputs": [],
   "source": []
  }
 ],
 "metadata": {
  "kernelspec": {
   "display_name": "Python 3",
   "language": "python",
   "name": "python3"
  },
  "language_info": {
   "codemirror_mode": {
    "name": "ipython",
    "version": 3
   },
   "file_extension": ".py",
   "mimetype": "text/x-python",
   "name": "python",
   "nbconvert_exporter": "python",
   "pygments_lexer": "ipython3",
   "version": "3.6.9"
  }
 },
 "nbformat": 4,
 "nbformat_minor": 2
}
